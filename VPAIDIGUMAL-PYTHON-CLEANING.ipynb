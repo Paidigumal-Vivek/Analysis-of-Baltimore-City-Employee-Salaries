{
 "cells": [
  {
   "cell_type": "code",
   "execution_count": 4,
   "id": "f1b495cf",
   "metadata": {},
   "outputs": [
    {
     "name": "stdout",
     "output_type": "stream",
     "text": [
      "Original Dataset:\n",
      "  lastName middleInitial      firstName                       jobClass  \\\n",
      "0    Aaron             D         Kareem       UTILITIES INST REPAIR II   \n",
      "1    Aaron             R          Lynda        ELECTION JUDGES REGULAR   \n",
      "2    Aaron             G       Patricia  FACILITIES/OFFICE SERVICES II   \n",
      "3   Abadir             O           Adam          OPERATIONS OFFICER II   \n",
      "4    Abaku             O  Aigbolosimuan             POLICE OFFICER EID   \n",
      "\n",
      "                                 agencyName agencyID  annualSalary   grossPay  \\\n",
      "0        Public Works - Water & Waste Water      A50       34115.0   44557.99   \n",
      "1                                       D01      D01           0.0     185.00   \n",
      "2  Mayor's Office of Employment Development      A03       63457.0   29461.96   \n",
      "3                         Health Department      A65       74299.0   85450.35   \n",
      "4                         Police Department      A99       68226.0  102775.97   \n",
      "\n",
      "     hireDate fiscalYear  ObjectId  \n",
      "0  2018-08-27     FY2021         1  \n",
      "1  2020-12-08     FY2021         2  \n",
      "2  1979-10-24     FY2021         3  \n",
      "3  2016-12-12     FY2021         4  \n",
      "4  2018-04-17     FY2021         5  \n",
      "\n",
      "Missing Values:\n",
      "lastName           410\n",
      "middleInitial    32992\n",
      "firstName            0\n",
      "jobClass           184\n",
      "agencyName           0\n",
      "agencyID             0\n",
      "annualSalary         0\n",
      "grossPay             0\n",
      "hireDate             2\n",
      "fiscalYear           0\n",
      "ObjectId             0\n",
      "dtype: int64\n",
      "\n",
      "Cleaned Dataset:\n",
      "  lastName middleInitial      firstName                       jobClass  \\\n",
      "0    Aaron             D         Kareem       UTILITIES INST REPAIR II   \n",
      "1    Aaron             R          Lynda        ELECTION JUDGES REGULAR   \n",
      "2    Aaron             G       Patricia  FACILITIES/OFFICE SERVICES II   \n",
      "3   Abadir             O           Adam          OPERATIONS OFFICER II   \n",
      "4    Abaku             O  Aigbolosimuan             POLICE OFFICER EID   \n",
      "\n",
      "                                 agencyName agencyID  annualSalary   grossPay  \\\n",
      "0        Public Works - Water & Waste Water      A50       34115.0   44557.99   \n",
      "1                                       D01      D01           0.0     185.00   \n",
      "2  Mayor's Office of Employment Development      A03       63457.0   29461.96   \n",
      "3                         Health Department      A65       74299.0   85450.35   \n",
      "4                         Police Department      A99       68226.0  102775.97   \n",
      "\n",
      "              hireDate fiscalYear  ObjectId  \n",
      "0  2018-08-27 00:00:00     FY2021         1  \n",
      "1  2020-12-08 00:00:00     FY2021         2  \n",
      "2  1979-10-24 00:00:00     FY2021         3  \n",
      "3  2016-12-12 00:00:00     FY2021         4  \n",
      "4  2018-04-17 00:00:00     FY2021         5  \n",
      "\n",
      "Cleaned dataset saved to C:/Users/VIVEK/Desktop/AIT 580/Cleaned_Baltimore_City_Employee_Salaries1.csv\n"
     ]
    }
   ],
   "source": [
    "import pandas as pd\n",
    "\n",
    "# Load the dataset\n",
    "file_path = 'Baltimore_City_Employee_Salaries.csv'\n",
    "df = pd.read_csv(file_path)\n",
    "\n",
    "# Display the first few rows of the dataset\n",
    "print(\"Original Dataset:\")\n",
    "print(df.head())\n",
    "\n",
    "# Check for missing values\n",
    "print(\"\\nMissing Values:\")\n",
    "print(df.isnull().sum())\n",
    "\n",
    "# Convert 'hireDate' column to datetime format\n",
    "df['hireDate'] = pd.to_datetime(df['hireDate'], errors='coerce')\n",
    "\n",
    "# Replace missing values with \"N/A\"\n",
    "df = df.fillna(\"N/A\")\n",
    "\n",
    "# Display the cleaned dataset\n",
    "print(\"\\nCleaned Dataset:\")\n",
    "print(df.head())\n",
    "\n",
    "# Save the cleaned dataset to a new CSV file\n",
    "\n",
    "cleaned_file_path = 'C:/Users/VIVEK/Desktop/AIT 580/Cleaned_Baltimore_City_Employee_Salaries1\n",
    ".csv'\n",
    "\n",
    "df.to_csv(cleaned_file_path, index=False)\n",
    "print(f\"\\nCleaned dataset saved to {cleaned_file_path}\")\n",
    "\n"
   ]
  },
  {
   "cell_type": "code",
   "execution_count": 5,
   "id": "e85f000f",
   "metadata": {},
   "outputs": [
    {
     "data": {
      "text/plain": [
       "array(['Aaron', 'Abadir', 'Abaku', ..., 'Zachmann', 'Zakia', 'Zucker'],\n",
       "      dtype=object)"
      ]
     },
     "execution_count": 5,
     "metadata": {},
     "output_type": "execute_result"
    }
   ],
   "source": [
    "df['lastName'].unique()"
   ]
  },
  {
   "cell_type": "code",
   "execution_count": 6,
   "id": "63d95a80",
   "metadata": {},
   "outputs": [
    {
     "data": {
      "text/plain": [
       "array(['D', 'R', 'G', 'O', 'N/A', 'A', 'W', 'N', 'M', 'H', 'E', 'J', 'S',\n",
       "       'L', 'K', 'B', 'T', 'C', 'V', 'Y', 'P', 'Q', 'Z', 'I', 'F', 'U',\n",
       "       'X', 'l', 'a', 'y', 'v', 'j', 'p', 'd', 't', '.', 's', 'e', 'h',\n",
       "       'n', 'r', 'k', 'o', 'c', 'x', 'm', 'u', 'g', 'i', 'z', '1', '0',\n",
       "       '2', '3', '4', '5', '6', '7', '8', '9', 'f', '-'], dtype=object)"
      ]
     },
     "execution_count": 6,
     "metadata": {},
     "output_type": "execute_result"
    }
   ],
   "source": [
    "df['middleInitial'].unique()\n"
   ]
  },
  {
   "cell_type": "code",
   "execution_count": 1,
   "id": "422a39fe",
   "metadata": {
    "scrolled": true
   },
   "outputs": [
    {
     "ename": "NameError",
     "evalue": "name 'df' is not defined",
     "output_type": "error",
     "traceback": [
      "\u001b[1;31m---------------------------------------------------------------------------\u001b[0m",
      "\u001b[1;31mNameError\u001b[0m                                 Traceback (most recent call last)",
      "Cell \u001b[1;32mIn[1], line 1\u001b[0m\n\u001b[1;32m----> 1\u001b[0m df[\u001b[38;5;124m'\u001b[39m\u001b[38;5;124mmiddleInitial\u001b[39m\u001b[38;5;124m'\u001b[39m] \u001b[38;5;241m=\u001b[39m df[\u001b[38;5;124m'\u001b[39m\u001b[38;5;124mmiddleInitial\u001b[39m\u001b[38;5;124m'\u001b[39m]\u001b[38;5;241m.\u001b[39mstr\u001b[38;5;241m.\u001b[39mupper()\n",
      "\u001b[1;31mNameError\u001b[0m: name 'df' is not defined"
     ]
    }
   ],
   "source": [
    "df['middleInitial'] = df['middleInitial'].str.upper()\n",
    "\n"
   ]
  },
  {
   "cell_type": "code",
   "execution_count": 13,
   "id": "d0d848e3",
   "metadata": {},
   "outputs": [
    {
     "data": {
      "text/plain": [
       "array(['Kareem', 'Lynda', 'Patricia', ..., 'Laquoya', \"Na'eemah\", 'Qing'],\n",
       "      dtype=object)"
      ]
     },
     "execution_count": 13,
     "metadata": {},
     "output_type": "execute_result"
    }
   ],
   "source": [
    "df['firstName'].unique()"
   ]
  },
  {
   "cell_type": "code",
   "execution_count": 14,
   "id": "21a83c77",
   "metadata": {},
   "outputs": [
    {
     "data": {
      "text/plain": [
       "array(['UTILITIES INST REPAIR II', 'ELECTION JUDGES REGULAR',\n",
       "       'FACILITIES/OFFICE SERVICES II', ...,\n",
       "       'ENTERPRISE APPLICATION SYSTEMS', 'DIR BUREAU OF ANIMAL CONTROL',\n",
       "       'COURT REPORTER'], dtype=object)"
      ]
     },
     "execution_count": 14,
     "metadata": {},
     "output_type": "execute_result"
    }
   ],
   "source": [
    "df['jobClass'].unique()"
   ]
  },
  {
   "cell_type": "code",
   "execution_count": 15,
   "id": "10ce635d",
   "metadata": {},
   "outputs": [
    {
     "data": {
      "text/plain": [
       "array(['Public Works - Water & Waste Water', 'D01',\n",
       "       \"Mayor's Office of Employment Development\", 'Health Department',\n",
       "       'Police Department', \"State's Attorney's Office\",\n",
       "       'Transportation - Traffic', 'Fire Department', \"Sheriff's Office\",\n",
       "       'Courts - Circuit Court', 'Recreation & Parks - Recreation',\n",
       "       'Enoch Pratt Free Library', 'Housing & Community Development',\n",
       "       'General Services', 'Comptroller - Audits',\n",
       "       'Baltimore City Office of Information and Technology',\n",
       "       'Transportation - Highways', 'Public Works - Solid Waste (weekly)',\n",
       "       'Liquor License Board', 'Recreation & Parks - Administration',\n",
       "       'Law Department', 'MOCFS', \"Mayor's Office\",\n",
       "       'Transportation - Crossing Guards', 'Public Works - Solid Waste',\n",
       "       'Retire - Fire & Police', 'Finance - Purchasing',\n",
       "       'Convention Center', 'City Council',\n",
       "       'Public Works - Administration', 'Human Resources', 'Planning',\n",
       "       'Transportation Highways', 'Finance - Risk Management',\n",
       "       \"Mayor's Office of Homeless Services\", \"Courts - Orphan's Court\",\n",
       "       'Transportation - Towing', 'Comptroller - Real Estate',\n",
       "       'Recreation & Parks - Parks', 'Finance - Collections',\n",
       "       'Legislative Reference', 'Finance - Administration & Budgets',\n",
       "       'Finance - Treasury', 'Comptroller',\n",
       "       'Finance - Accounting & Payroll',\n",
       "       'Office of Civil Rights and Wage Enforcement', 'Retire - ERS/EOS',\n",
       "       'Environmental Control Board', 'W07 - OED - Youth Works',\n",
       "       'Comptroller - Communication Services',\n",
       "       \"Labor Commissioner's Office\", 'BCIT 311 Call Center',\n",
       "       'Rec & Parks', 'Office of the Inspector General', 'R01',\n",
       "       'SCS - Special City Services', 'Municipal Zoning & Appeals',\n",
       "       'Community Relations (inactive)', 'Rec & Parks (Part-Time)',\n",
       "       'Councilmatic Services', 'Cable & Communications', 'Elections',\n",
       "       'HR Test Monitor', 'Una 01 (001)', 'BPD 1', 'FIN-RSP Admin (001)',\n",
       "       'Youth Cust', 'TANF Cust', 'War Memorial Commission',\n",
       "       'Wage Commissioner', 'HLTH-Emergency Medical Team'], dtype=object)"
      ]
     },
     "execution_count": 15,
     "metadata": {},
     "output_type": "execute_result"
    }
   ],
   "source": [
    "df['agencyName'].unique()"
   ]
  },
  {
   "cell_type": "code",
   "execution_count": 19,
   "id": "368b1657",
   "metadata": {},
   "outputs": [
    {
     "data": {
      "text/plain": [
       "array(['A50', 'D01', 'A03', 'A65', 'A99', 'A29', 'A90', 'A64', 'A38',\n",
       "       'A31', 'A04', 'A75', 'A06', 'A85', 'A24', 'A40', 'A49', 'B70',\n",
       "       'A09', 'A67', 'A30', 'A10', 'A01', 'C90', 'A70', 'A54', 'A17',\n",
       "       'A91', 'A02', 'A41', 'A83', 'A19', 'B49', 'A32', 'A08', 'A37',\n",
       "       'A84', 'A15', 'A68', 'A14', 'A33', 'A23', 'A18', 'A16', 'A12',\n",
       "       'A51', 'A52', 'A46', 'W07', 'A88', 'A26', 'A39', 'B68', 'A11',\n",
       "       'R01', 'SCS', 'A73', 'P04', 'A57', 'A44', 'A35', 'P83', 'U01',\n",
       "       'BPD', 'A53', 'W03', 'W08', 'A86', 'A9', 'A28', 'P65'],\n",
       "      dtype=object)"
      ]
     },
     "execution_count": 19,
     "metadata": {},
     "output_type": "execute_result"
    }
   ],
   "source": [
    "df['agencyID'].unique()"
   ]
  },
  {
   "cell_type": "code",
   "execution_count": 20,
   "id": "5ef0314a",
   "metadata": {},
   "outputs": [
    {
     "data": {
      "text/plain": [
       "array([34115.,     0., 63457., ..., 36867., 48669., 48006.])"
      ]
     },
     "execution_count": 20,
     "metadata": {},
     "output_type": "execute_result"
    }
   ],
   "source": [
    "df['annualSalary'].unique()"
   ]
  },
  {
   "cell_type": "code",
   "execution_count": 24,
   "id": "cff51740",
   "metadata": {},
   "outputs": [
    {
     "name": "stdout",
     "output_type": "stream",
     "text": [
      "[34115.     0. 63457. ... 36867. 48669. 48006.]\n"
     ]
    }
   ],
   "source": [
    "# Replace null values in 'annualSalary' with 0\n",
    "df['annualSalary'] = df['annualSalary'].fillna(0)\n",
    "\n",
    "# Verify the changes\n",
    "print(df['annualSalary'].unique())\n"
   ]
  },
  {
   "cell_type": "code",
   "execution_count": 25,
   "id": "e5e53bd0",
   "metadata": {},
   "outputs": [
    {
     "data": {
      "text/plain": [
       "array([44557.99,   185.  , 29461.96, ..., 71989.51, 53235.59, 95152.89])"
      ]
     },
     "execution_count": 25,
     "metadata": {},
     "output_type": "execute_result"
    }
   ],
   "source": [
    "df['grossPay'].unique()"
   ]
  },
  {
   "cell_type": "code",
   "execution_count": 26,
   "id": "c4cdb099",
   "metadata": {},
   "outputs": [
    {
     "data": {
      "text/plain": [
       "array([Timestamp('2018-08-27 00:00:00'), Timestamp('2020-12-08 00:00:00'),\n",
       "       Timestamp('1979-10-24 00:00:00'), ...,\n",
       "       Timestamp('2008-10-08 00:00:00'), Timestamp('1977-06-29 00:00:00'),\n",
       "       Timestamp('2004-10-01 00:00:00')], dtype=object)"
      ]
     },
     "execution_count": 26,
     "metadata": {},
     "output_type": "execute_result"
    }
   ],
   "source": [
    "df['hireDate'].unique()"
   ]
  },
  {
   "cell_type": "code",
   "execution_count": 29,
   "id": "2cf45eea",
   "metadata": {},
   "outputs": [
    {
     "name": "stdout",
     "output_type": "stream",
     "text": [
      "['2018-08-27' '2020-12-08' '1979-10-24' ... '2008-10-08' '1977-06-29'\n",
      " '2004-10-01']\n"
     ]
    }
   ],
   "source": [
    "# Convert 'hireDate' to datetime type\n",
    "df['hireDate'] = pd.to_datetime(df['hireDate'], errors='coerce')\n",
    "\n",
    "# Convert 'hireDate' to string and extract only the date part\n",
    "df['hireDate'] = df['hireDate'].dt.strftime('%Y-%m-%d')\n",
    "\n",
    "# Verify the changes\n",
    "print(df['hireDate'].unique())\n"
   ]
  },
  {
   "cell_type": "code",
   "execution_count": 30,
   "id": "e1b2214c",
   "metadata": {},
   "outputs": [
    {
     "data": {
      "text/plain": [
       "array(['FY2021', 'FY2020', 'FY2019', 'FY2018', 'FY2017', 'FY2016',\n",
       "       'FY2015', 'FY2014', 'FY2013', 'FY2012', 'FY2011'], dtype=object)"
      ]
     },
     "execution_count": 30,
     "metadata": {},
     "output_type": "execute_result"
    }
   ],
   "source": [
    "df['fiscalYear'].unique()"
   ]
  },
  {
   "cell_type": "code",
   "execution_count": 31,
   "id": "3c7aa707",
   "metadata": {},
   "outputs": [
    {
     "data": {
      "text/plain": [
       "array([     1,      2,      3, ..., 154185, 154186, 154187], dtype=int64)"
      ]
     },
     "execution_count": 31,
     "metadata": {},
     "output_type": "execute_result"
    }
   ],
   "source": [
    "df['ObjectId'].unique()"
   ]
  },
  {
   "cell_type": "code",
   "execution_count": 37,
   "id": "fcdc54be",
   "metadata": {},
   "outputs": [
    {
     "name": "stdout",
     "output_type": "stream",
     "text": [
      "['D' 'R' 'G' 'O' 'N/A' 'A' 'W' 'N' 'M' 'H' 'E' 'J' 'S' 'L' 'K' 'B' 'T' 'C'\n",
      " 'V' 'Y' 'P' 'Q' 'Z' 'I' 'F' 'U' 'X' '.' '1' '0' '2' '3' '4' '5' '6' '7'\n",
      " '8' '9' '-']\n"
     ]
    }
   ],
   "source": [
    "# Replace null values in 'middleInitial' with 'N/A'\n",
    "df['middleInitial'] = df['middleInitial'].fillna('N/A')\n",
    "print(df['middleInitial'].unique())\n",
    "\n",
    "\n"
   ]
  },
  {
   "cell_type": "code",
   "execution_count": null,
   "id": "162cbeb8",
   "metadata": {},
   "outputs": [],
   "source": []
  }
 ],
 "metadata": {
  "kernelspec": {
   "display_name": "Python 3 (ipykernel)",
   "language": "python",
   "name": "python3"
  },
  "language_info": {
   "codemirror_mode": {
    "name": "ipython",
    "version": 3
   },
   "file_extension": ".py",
   "mimetype": "text/x-python",
   "name": "python",
   "nbconvert_exporter": "python",
   "pygments_lexer": "ipython3",
   "version": "3.11.5"
  }
 },
 "nbformat": 4,
 "nbformat_minor": 5
}
